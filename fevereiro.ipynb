{
 "cells": [
  {
   "cell_type": "markdown",
   "metadata": {},
   "source": [
    "## Monitoramento: fevereiro "
   ]
  },
  {
   "cell_type": "code",
   "execution_count": 2,
   "metadata": {},
   "outputs": [],
   "source": [
    "import pandas as pd\n",
    "import matplotlib.pyplot as plt"
   ]
  },
  {
   "cell_type": "code",
   "execution_count": 4,
   "metadata": {},
   "outputs": [],
   "source": [
    "df_tabela_fevereiro = pd.read_csv ('rede_fevereiro.csv', sep = ';', encoding= 'latin-1')\n"
   ]
  },
  {
   "cell_type": "code",
   "execution_count": 5,
   "metadata": {},
   "outputs": [
    {
     "data": {
      "text/plain": [
       "(53, 9)"
      ]
     },
     "execution_count": 5,
     "metadata": {},
     "output_type": "execute_result"
    }
   ],
   "source": [
    "# Foram 34 \"sim\", não estou levando em consideração matérias que tiveram mais de uma entrada. \n",
    "df_entrada = df_tabela_fevereiro[(df_tabela_fevereiro['GoogleForms'] == 'sim')]\n",
    "df_entrada.shape"
   ]
  },
  {
   "cell_type": "code",
   "execution_count": 6,
   "metadata": {},
   "outputs": [
    {
     "data": {
      "text/plain": [
       "<pandas.core.groupby.generic.DataFrameGroupBy object at 0x000001DD5BFFD690>"
      ]
     },
     "execution_count": 6,
     "metadata": {},
     "output_type": "execute_result"
    }
   ],
   "source": [
    "dado_agrupado = df_tabela_fevereiro.groupby ('Município')\n",
    "dado_agrupado"
   ]
  },
  {
   "cell_type": "code",
   "execution_count": 7,
   "metadata": {},
   "outputs": [
    {
     "data": {
      "text/plain": [
       "Município\n",
       "Alvarães                        1\n",
       "Barcelos                        1\n",
       "Barreirinha                     1\n",
       "Caapiranga                      1\n",
       "Coari                           2\n",
       "Codajás                         1\n",
       "Humaitá                         1\n",
       "Iranduba                        2\n",
       "Jutaí                           1\n",
       "Manacapuru/Iranduba             1\n",
       "Manaus                         25\n",
       "Maraã                           1\n",
       "Novo Airão                      1\n",
       "Parintins                       5\n",
       "Rio Preto da Eva                3\n",
       "Tabatinga                       1\n",
       "Tabatinga/Benjamim Constant     1\n",
       "Tefé                            3\n",
       "Tonantins                       1\n",
       "Name: Município, dtype: int64"
      ]
     },
     "execution_count": 7,
     "metadata": {},
     "output_type": "execute_result"
    }
   ],
   "source": [
    "contagem_municipio = dado_agrupado['Município'].count()\n",
    "contagem_municipio"
   ]
  }
 ],
 "metadata": {
  "kernelspec": {
   "display_name": "Python 3",
   "language": "python",
   "name": "python3"
  },
  "language_info": {
   "codemirror_mode": {
    "name": "ipython",
    "version": 3
   },
   "file_extension": ".py",
   "mimetype": "text/x-python",
   "name": "python",
   "nbconvert_exporter": "python",
   "pygments_lexer": "ipython3",
   "version": "3.11.undefined"
  }
 },
 "nbformat": 4,
 "nbformat_minor": 2
}
