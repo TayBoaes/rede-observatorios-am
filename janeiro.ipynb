{
 "cells": [
  {
   "cell_type": "markdown",
   "metadata": {},
   "source": [
    "## Rede de Observatórios: Coleta janeiro"
   ]
  },
  {
   "cell_type": "code",
   "execution_count": 2,
   "metadata": {},
   "outputs": [],
   "source": [
    "import pandas as pd\n",
    "import matplotlib.pyplot as plt"
   ]
  },
  {
   "cell_type": "code",
   "execution_count": 3,
   "metadata": {},
   "outputs": [
    {
     "data": {
      "text/html": [
       "<div>\n",
       "<style scoped>\n",
       "    .dataframe tbody tr th:only-of-type {\n",
       "        vertical-align: middle;\n",
       "    }\n",
       "\n",
       "    .dataframe tbody tr th {\n",
       "        vertical-align: top;\n",
       "    }\n",
       "\n",
       "    .dataframe thead th {\n",
       "        text-align: right;\n",
       "    }\n",
       "</style>\n",
       "<table border=\"1\" class=\"dataframe\">\n",
       "  <thead>\n",
       "    <tr style=\"text-align: right;\">\n",
       "      <th></th>\n",
       "      <th>ID caso</th>\n",
       "      <th>GoogleForms</th>\n",
       "      <th>Entrada</th>\n",
       "      <th>Município</th>\n",
       "      <th>Grupo</th>\n",
       "      <th>DicionárioDeIndicadores</th>\n",
       "      <th>Data</th>\n",
       "      <th>Portal</th>\n",
       "      <th>Link</th>\n",
       "      <th>Observações</th>\n",
       "    </tr>\n",
       "  </thead>\n",
       "  <tbody>\n",
       "    <tr>\n",
       "      <th>0</th>\n",
       "      <td>1</td>\n",
       "      <td>NaN</td>\n",
       "      <td>NaN</td>\n",
       "      <td>Eirunepé</td>\n",
       "      <td>1</td>\n",
       "      <td>NaN</td>\n",
       "      <td>01/01/2024</td>\n",
       "      <td>G1 Amazonas</td>\n",
       "      <td>https://g1.globo.com/am/amazonas/noticia/2024/...</td>\n",
       "      <td>NaN</td>\n",
       "    </tr>\n",
       "    <tr>\n",
       "      <th>1</th>\n",
       "      <td>2</td>\n",
       "      <td>observação</td>\n",
       "      <td>NaN</td>\n",
       "      <td>Maraã</td>\n",
       "      <td>3</td>\n",
       "      <td>Violência contra crianças e adolescentes</td>\n",
       "      <td>02/01/2024</td>\n",
       "      <td>G1 Amazonas</td>\n",
       "      <td>https://g1.globo.com/am/amazonas/noticia/2024/...</td>\n",
       "      <td>O crime ocorreu no ano de 2023</td>\n",
       "    </tr>\n",
       "    <tr>\n",
       "      <th>2</th>\n",
       "      <td>3</td>\n",
       "      <td>sim</td>\n",
       "      <td>NaN</td>\n",
       "      <td>Maraã</td>\n",
       "      <td>3</td>\n",
       "      <td>Violência contra mulher</td>\n",
       "      <td>02/01/2024</td>\n",
       "      <td>G1 Amazonas</td>\n",
       "      <td>https://g1.globo.com/am/amazonas/noticia/2024/...</td>\n",
       "      <td>NaN</td>\n",
       "    </tr>\n",
       "    <tr>\n",
       "      <th>3</th>\n",
       "      <td>4</td>\n",
       "      <td>sim</td>\n",
       "      <td>NaN</td>\n",
       "      <td>Barreirinha</td>\n",
       "      <td>3</td>\n",
       "      <td>Violência contra mulher</td>\n",
       "      <td>01/01/2024</td>\n",
       "      <td>G1 Amazonas</td>\n",
       "      <td>https://g1.globo.com/am/amazonas/noticia/2024/...</td>\n",
       "      <td>NaN</td>\n",
       "    </tr>\n",
       "    <tr>\n",
       "      <th>4</th>\n",
       "      <td>5</td>\n",
       "      <td>sim</td>\n",
       "      <td>NaN</td>\n",
       "      <td>Eirunepé</td>\n",
       "      <td>1</td>\n",
       "      <td>Ações de policiamento</td>\n",
       "      <td>03/01/2024</td>\n",
       "      <td>G1 Amazonas</td>\n",
       "      <td>https://g1.globo.com/am/amazonas/noticia/2024/...</td>\n",
       "      <td>NaN</td>\n",
       "    </tr>\n",
       "    <tr>\n",
       "      <th>...</th>\n",
       "      <td>...</td>\n",
       "      <td>...</td>\n",
       "      <td>...</td>\n",
       "      <td>...</td>\n",
       "      <td>...</td>\n",
       "      <td>...</td>\n",
       "      <td>...</td>\n",
       "      <td>...</td>\n",
       "      <td>...</td>\n",
       "      <td>...</td>\n",
       "    </tr>\n",
       "    <tr>\n",
       "      <th>56</th>\n",
       "      <td>57</td>\n",
       "      <td>observação</td>\n",
       "      <td>NaN</td>\n",
       "      <td>Barcelos</td>\n",
       "      <td>NaN</td>\n",
       "      <td>Violência contra criançaa e adolescentes</td>\n",
       "      <td>26/01/2024</td>\n",
       "      <td>Portal do Holanda</td>\n",
       "      <td>https://www.portaldoholanda.com.br/policial/vi...</td>\n",
       "      <td>O crime ocorreu em anos anteriores</td>\n",
       "    </tr>\n",
       "    <tr>\n",
       "      <th>57</th>\n",
       "      <td>58</td>\n",
       "      <td>NaN</td>\n",
       "      <td>NaN</td>\n",
       "      <td>NaN</td>\n",
       "      <td>NaN</td>\n",
       "      <td>NaN</td>\n",
       "      <td>28/01/2024</td>\n",
       "      <td>Portal do Holanda</td>\n",
       "      <td>https://www.portaldoholanda.com.br/policial/ho...</td>\n",
       "      <td>NaN</td>\n",
       "    </tr>\n",
       "    <tr>\n",
       "      <th>58</th>\n",
       "      <td>59</td>\n",
       "      <td>sim</td>\n",
       "      <td>4.0</td>\n",
       "      <td>Fonte Boa</td>\n",
       "      <td>NaN</td>\n",
       "      <td>Violência contra mulher</td>\n",
       "      <td>29/01/2024</td>\n",
       "      <td>Portal do Holanda</td>\n",
       "      <td>https://www.portaldoholanda.com.br/policial/mu...</td>\n",
       "      <td>NaN</td>\n",
       "    </tr>\n",
       "    <tr>\n",
       "      <th>59</th>\n",
       "      <td>60</td>\n",
       "      <td>sim</td>\n",
       "      <td>NaN</td>\n",
       "      <td>Manaus</td>\n",
       "      <td>NaN</td>\n",
       "      <td>Ações de policiamento</td>\n",
       "      <td>29/01/2024</td>\n",
       "      <td>Amazonas Atual</td>\n",
       "      <td>https://amazonasatual.com.br/drogas-com-foto-d...</td>\n",
       "      <td>NaN</td>\n",
       "    </tr>\n",
       "    <tr>\n",
       "      <th>60</th>\n",
       "      <td>61</td>\n",
       "      <td>sim</td>\n",
       "      <td>3.0</td>\n",
       "      <td>Benjamin Constant</td>\n",
       "      <td>NaN</td>\n",
       "      <td>NaN</td>\n",
       "      <td>NaN</td>\n",
       "      <td>Amazonas Atual</td>\n",
       "      <td>https://amazonasatual.com.br/homem-e-preso-sus...</td>\n",
       "      <td>NaN</td>\n",
       "    </tr>\n",
       "  </tbody>\n",
       "</table>\n",
       "<p>61 rows × 10 columns</p>\n",
       "</div>"
      ],
      "text/plain": [
       "    ID caso GoogleForms  Entrada          Município Grupo  \\\n",
       "0         1         NaN      NaN           Eirunepé     1   \n",
       "1         2  observação      NaN              Maraã     3   \n",
       "2         3         sim      NaN              Maraã     3   \n",
       "3         4         sim      NaN        Barreirinha     3   \n",
       "4         5         sim      NaN           Eirunepé     1   \n",
       "..      ...         ...      ...                ...   ...   \n",
       "56       57  observação      NaN           Barcelos   NaN   \n",
       "57       58         NaN      NaN                NaN   NaN   \n",
       "58       59         sim      4.0          Fonte Boa   NaN   \n",
       "59       60         sim      NaN             Manaus   NaN   \n",
       "60       61         sim      3.0  Benjamin Constant   NaN   \n",
       "\n",
       "                     DicionárioDeIndicadores        Data             Portal  \\\n",
       "0                                        NaN  01/01/2024        G1 Amazonas   \n",
       "1   Violência contra crianças e adolescentes  02/01/2024        G1 Amazonas   \n",
       "2                    Violência contra mulher  02/01/2024        G1 Amazonas   \n",
       "3                    Violência contra mulher  01/01/2024        G1 Amazonas   \n",
       "4                      Ações de policiamento  03/01/2024        G1 Amazonas   \n",
       "..                                       ...         ...                ...   \n",
       "56  Violência contra criançaa e adolescentes  26/01/2024  Portal do Holanda   \n",
       "57                                       NaN  28/01/2024  Portal do Holanda   \n",
       "58                   Violência contra mulher  29/01/2024  Portal do Holanda   \n",
       "59                     Ações de policiamento  29/01/2024     Amazonas Atual   \n",
       "60                                       NaN         NaN     Amazonas Atual   \n",
       "\n",
       "                                                 Link  \\\n",
       "0   https://g1.globo.com/am/amazonas/noticia/2024/...   \n",
       "1   https://g1.globo.com/am/amazonas/noticia/2024/...   \n",
       "2   https://g1.globo.com/am/amazonas/noticia/2024/...   \n",
       "3   https://g1.globo.com/am/amazonas/noticia/2024/...   \n",
       "4   https://g1.globo.com/am/amazonas/noticia/2024/...   \n",
       "..                                                ...   \n",
       "56  https://www.portaldoholanda.com.br/policial/vi...   \n",
       "57  https://www.portaldoholanda.com.br/policial/ho...   \n",
       "58  https://www.portaldoholanda.com.br/policial/mu...   \n",
       "59  https://amazonasatual.com.br/drogas-com-foto-d...   \n",
       "60  https://amazonasatual.com.br/homem-e-preso-sus...   \n",
       "\n",
       "                           Observações  \n",
       "0                                  NaN  \n",
       "1       O crime ocorreu no ano de 2023  \n",
       "2                                  NaN  \n",
       "3                                  NaN  \n",
       "4                                  NaN  \n",
       "..                                 ...  \n",
       "56  O crime ocorreu em anos anteriores  \n",
       "57                                 NaN  \n",
       "58                                 NaN  \n",
       "59                                 NaN  \n",
       "60                                 NaN  \n",
       "\n",
       "[61 rows x 10 columns]"
      ]
     },
     "execution_count": 3,
     "metadata": {},
     "output_type": "execute_result"
    }
   ],
   "source": [
    "df_tabela_janeiro = pd.read_csv ('rede_janeiro.csv' , sep=';', encoding= 'latin-1')\n",
    "df_tabela_janeiro"
   ]
  },
  {
   "cell_type": "code",
   "execution_count": 9,
   "metadata": {},
   "outputs": [
    {
     "data": {
      "text/plain": [
       "(34, 10)"
      ]
     },
     "execution_count": 9,
     "metadata": {},
     "output_type": "execute_result"
    }
   ],
   "source": [
    "# Foram 34 \"sim\", não estou levando em consideração matérias que tiveram mais de uma entrada. \n",
    "df_entrada = df_tabela_janeiro[(df_tabela_janeiro['GoogleForms'] == 'sim')]\n",
    "df_entrada.shape"
   ]
  },
  {
   "cell_type": "code",
   "execution_count": 10,
   "metadata": {},
   "outputs": [
    {
     "data": {
      "text/plain": [
       "<pandas.core.groupby.generic.DataFrameGroupBy object at 0x000002B11A514390>"
      ]
     },
     "execution_count": 10,
     "metadata": {},
     "output_type": "execute_result"
    }
   ],
   "source": [
    "dado_agrupado = df_tabela_janeiro.groupby ('Município')\n",
    "dado_agrupado"
   ]
  },
  {
   "cell_type": "code",
   "execution_count": 19,
   "metadata": {},
   "outputs": [
    {
     "data": {
      "text/plain": [
       "Município\n",
       "Anamã                     1\n",
       "Barcelos                  3\n",
       "Barreirinha               1\n",
       "Benjamin Constant         1\n",
       "Coari/Borba               1\n",
       "Codajás                   1\n",
       "Eirunepé                  2\n",
       "Fonte Boa                 1\n",
       "Humaitá                   3\n",
       "Itacoatiara               1\n",
       "Itamarati                 2\n",
       "Lábrea                    1\n",
       "Manaus                   27\n",
       "Maraã                     2\n",
       "Maués                     2\n",
       "Novo Airão                1\n",
       "Parintins                 4\n",
       "Presidente Figueiredo     1\n",
       "Rio Preto da Eva          1\n",
       "Tabatinga                 1\n",
       "Name: Município, dtype: int64"
      ]
     },
     "execution_count": 19,
     "metadata": {},
     "output_type": "execute_result"
    }
   ],
   "source": [
    "contagem_municipio = dado_agrupado['Município'].count()\n",
    "contagem_municipio"
   ]
  },
  {
   "cell_type": "code",
   "execution_count": 40,
   "metadata": {},
   "outputs": [
    {
     "data": {
      "text/plain": [
       "(0, 10)"
      ]
     },
     "execution_count": 40,
     "metadata": {},
     "output_type": "execute_result"
    }
   ],
   "source": [
    "df_filtro_condicao = df_tabela_janeiro[(df_tabela_janeiro['Município'] == 'Rio Preto da Eva') & (df_tabela_janeiro['GoogleForms'] == 'sim')]\n",
    "df_filtro_condicao.shape"
   ]
  },
  {
   "cell_type": "code",
   "execution_count": 18,
   "metadata": {},
   "outputs": [
    {
     "data": {
      "text/plain": [
       "(2, 10)"
      ]
     },
     "execution_count": 18,
     "metadata": {},
     "output_type": "execute_result"
    }
   ],
   "source": [
    "df = df_tabela_janeiro[df_tabela_janeiro['Município'] == \"Eirunepé\"]\n",
    "df.shape"
   ]
  }
 ],
 "metadata": {
  "kernelspec": {
   "display_name": "Python 3",
   "language": "python",
   "name": "python3"
  },
  "language_info": {
   "codemirror_mode": {
    "name": "ipython",
    "version": 3
   },
   "file_extension": ".py",
   "mimetype": "text/x-python",
   "name": "python",
   "nbconvert_exporter": "python",
   "pygments_lexer": "ipython3",
   "version": "3.11.8"
  }
 },
 "nbformat": 4,
 "nbformat_minor": 2
}
